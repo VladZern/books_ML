{
 "cells": [
  {
   "cell_type": "markdown",
   "metadata": {},
   "source": [
    "# Двухслойная одномерная сверточная сеть для решения задачи определения эмоциональной окраски отзывов в наборе данных IMDB."
   ]
  },
  {
   "cell_type": "code",
   "execution_count": 1,
   "metadata": {},
   "outputs": [
    {
     "name": "stdout",
     "output_type": "stream",
     "text": [
      "Loading data...\n",
      "25000 train sequences\n",
      "25000 test sequences\n",
      "Pad sequences (samples x time)\n",
      "x_train shape: (25000, 500)\n",
      "x_test shape: (25000, 500)\n"
     ]
    }
   ],
   "source": [
    "from tensorflow.keras.datasets import imdb\n",
    "from tensorflow.keras.preprocessing import sequence\n",
    "max_features = 10000\n",
    "max_len = 500\n",
    "print('Loading data...')\n",
    "(x_train, y_train), (x_test, y_test) = imdb.load_data(num_words= max_features)\n",
    "print(len(x_train), 'train sequences')\n",
    "print(len(x_test), 'test sequences')\n",
    "print('Pad sequences (samples x time)')\n",
    "x_train = sequence.pad_sequences(x_train, maxlen=max_len)\n",
    "x_test = sequence.pad_sequences(x_test, maxlen=max_len)\n",
    "print('x_train shape:', x_train.shape)\n",
    "print('x_test shape:', x_test.shape)"
   ]
  },
  {
   "cell_type": "markdown",
   "metadata": {},
   "source": [
    "Одномерные сверточные сети устроены так же, как их двумерные сородичи, с которыми мы познакомились в главе 5: они состоят из стопки слоев Conv1D и MaxPooling1D, завершающейся слоем GlobalMaxPooling1D или Flatten, который преобразует трехмерный вывод в двумерный, что позволяет добавить в модель один или несколько слоев Dense для классификации или регрессии.\n",
    "Одно из различий — возможность использовать в одномерных сверточных сетях более крупные окна свертки. Окно свертки 3 × 3 в двумерном сверточном слое содержит 3 × 3 = 9 векторов признаков, а в одномерном сверточном слое окно с размером 3 содержит только 3 вектора признаков. Соответственно, мы легко можем использовать окна свертки с размером 7 или 9."
   ]
  },
  {
   "cell_type": "code",
   "execution_count": 2,
   "metadata": {},
   "outputs": [
    {
     "name": "stdout",
     "output_type": "stream",
     "text": [
      "Model: \"sequential\"\n",
      "_________________________________________________________________\n",
      "Layer (type)                 Output Shape              Param #   \n",
      "=================================================================\n",
      "embedding (Embedding)        (None, 500, 128)          1280000   \n",
      "_________________________________________________________________\n",
      "conv1d (Conv1D)              (None, 494, 32)           28704     \n",
      "_________________________________________________________________\n",
      "max_pooling1d (MaxPooling1D) (None, 98, 32)            0         \n",
      "_________________________________________________________________\n",
      "conv1d_1 (Conv1D)            (None, 92, 32)            7200      \n",
      "_________________________________________________________________\n",
      "global_max_pooling1d (Global (None, 32)                0         \n",
      "_________________________________________________________________\n",
      "dense (Dense)                (None, 1)                 33        \n",
      "=================================================================\n",
      "Total params: 1,315,937\n",
      "Trainable params: 1,315,937\n",
      "Non-trainable params: 0\n",
      "_________________________________________________________________\n",
      "Train on 20000 samples, validate on 5000 samples\n",
      "Epoch 1/10\n",
      "20000/20000 [==============================] - 83s 4ms/sample - loss: 0.8233 - acc: 0.5071 - val_loss: 0.6893 - val_acc: 0.5280\n",
      "Epoch 2/10\n",
      "20000/20000 [==============================] - 85s 4ms/sample - loss: 0.6728 - acc: 0.6475 - val_loss: 0.6704 - val_acc: 0.6032\n",
      "Epoch 3/10\n",
      "20000/20000 [==============================] - 87s 4ms/sample - loss: 0.6300 - acc: 0.7534 - val_loss: 0.6239 - val_acc: 0.6892\n",
      "Epoch 4/10\n",
      "20000/20000 [==============================] - 87s 4ms/sample - loss: 0.5481 - acc: 0.8096 - val_loss: 0.5204 - val_acc: 0.7906\n",
      "Epoch 5/10\n",
      "20000/20000 [==============================] - 88s 4ms/sample - loss: 0.4236 - acc: 0.8486 - val_loss: 0.4225 - val_acc: 0.8318\n",
      "Epoch 6/10\n",
      "20000/20000 [==============================] - 91s 5ms/sample - loss: 0.3464 - acc: 0.8760 - val_loss: 0.3948 - val_acc: 0.8476\n",
      "Epoch 7/10\n",
      "20000/20000 [==============================] - 94s 5ms/sample - loss: 0.3026 - acc: 0.8941 - val_loss: 0.4051 - val_acc: 0.8610\n",
      "Epoch 8/10\n",
      "20000/20000 [==============================] - 91s 5ms/sample - loss: 0.2714 - acc: 0.9089 - val_loss: 0.3945 - val_acc: 0.8616\n",
      "Epoch 9/10\n",
      "20000/20000 [==============================] - 88s 4ms/sample - loss: 0.2420 - acc: 0.9201 - val_loss: 0.4134 - val_acc: 0.8672\n",
      "Epoch 10/10\n",
      "20000/20000 [==============================] - 89s 4ms/sample - loss: 0.2199 - acc: 0.9292 - val_loss: 0.4604 - val_acc: 0.8678\n"
     ]
    }
   ],
   "source": [
    "from tensorflow.keras.models import Sequential\n",
    "from tensorflow.keras import layers\n",
    "from tensorflow.keras.optimizers import RMSprop\n",
    "model = Sequential()\n",
    "model.add(layers.Embedding(max_features, 128, input_length=max_len))\n",
    "model.add(layers.Conv1D(32, 7, activation='relu'))\n",
    "model.add(layers.MaxPooling1D(5))\n",
    "model.add(layers.Conv1D(32, 7, activation='relu'))\n",
    "model.add(layers.GlobalMaxPooling1D())\n",
    "model.add(layers.Dense(1))\n",
    "model.summary()\n",
    "model.compile(optimizer=RMSprop(lr=1e-4), loss='binary_crossentropy', metrics=['acc'])\n",
    "history = model.fit(x_train, y_train, epochs=10, batch_size=128, validation_split=0.2)"
   ]
  },
  {
   "cell_type": "code",
   "execution_count": 3,
   "metadata": {},
   "outputs": [
    {
     "data": {
      "image/png": "[encoded data removed]",
      "text/plain": [
       "<Figure size 432x288 with 1 Axes>"
      ]
     },
     "metadata": {
      "needs_background": "light"
     },
     "output_type": "display_data"
    },
    {
     "data": {
      "image/png": "[encoded data removed]",
      "text/plain": [
       "<Figure size 432x288 with 1 Axes>"
      ]
     },
     "metadata": {
      "needs_background": "light"
     },
     "output_type": "display_data"
    }
   ],
   "source": [
    "import matplotlib.pyplot as plt\n",
    "acc = history.history['acc']\n",
    "val_acc = history.history['val_acc']\n",
    "loss = history.history['loss']\n",
    "val_loss = history.history['val_loss']\n",
    "epochs = range(1, len(acc) + 1)\n",
    "plt.plot(epochs, acc, 'bo', label='Training acc')\n",
    "plt.plot(epochs, val_acc, 'b', label='Validation acc')\n",
    "plt.title('Training and validation accuracy')\n",
    "plt.legend()\n",
    "plt.figure()\n",
    "plt.plot(epochs, loss, 'bo', label='Training loss')\n",
    "plt.plot(epochs, val_loss, 'b', label='Validation loss')\n",
    "plt.title('Training and validation loss')\n",
    "plt.legend()\n",
    "plt.show()"
   ]
  },
  {
   "cell_type": "markdown",
   "metadata": {},
   "source": [
    "## Объединение сверточных и рекуррентных сетей для обработки длинных последовательностей"
   ]
  },
  {
   "cell_type": "markdown",
   "metadata": {},
   "source": [
    "Одна из стратегий объединить скорость и легкость сверточных сетей с чувствительностью к порядку рекуррентных сетей заключается в использовании одномерной сверточной сети для предварительной обработки данных перед передачей их в рекуррентную сеть. Этот прием оказывается особенно выгодным, когда имеющиеся последовательности настолько длинны (с несколькими тысяча ми интервалов и больше), что их нереально обработать с помощью рекуррентной сети. Сверточная часть превратит длинную входную последовательность в более короткую последовательность высокоуровневых признаков (уменьшив ее разрешение). А затем последовательность выделенных признаков подается на вход рекуррентной части сети. (смотреть RNN)"
   ]
  },
  {
   "cell_type": "markdown",
   "metadata": {},
   "source": [
    "## Выводы:\n",
    "\n",
    "1) По аналогии с двумерными сверточными сетями, которые прекрасно справляются с задачей выделения визуальных шаблонов в двумерном пространстве, одномерные сверточные сети хорошо подходят для выделения временных шаблонов. В некоторых задачах, особенно в обработке естественного языка, они могут служить более быстрой альтернативой рекуррентным сетям.\n",
    "\n",
    "2) Обычно одномерные сверточные сети структурируются так же, как их двумерные сородичи из мира распознавания образов: они состоят из стопки слоев Conv1D и MaxPooling1D, завершающейся слоем GlobalMaxPooling1D или Flatten.\n",
    "\n",
    "3) Поскольку применение рекуррентных сетей является слишком затратным для обработки очень длинных последовательностей, а применение одномерных сверточных сетей — менее затратным, может оказаться неплохой идея использовать одномерную сверточную сеть для предварительной обработки последовательности перед передачей в рекуррентную сеть. Она сократит последовательность и выделит полезное представление для последующей обработки рекуррентной сетью."
   ]
  },
  {
   "cell_type": "code",
   "execution_count": null,
   "metadata": {},
   "outputs": [],
   "source": []
  }
 ],
 "metadata": {
  "kernelspec": {
   "display_name": "Python 3",
   "language": "python",
   "name": "python3"
  },
  "language_info": {
   "codemirror_mode": {
    "name": "ipython",
    "version": 3
   },
   "file_extension": ".py",
   "mimetype": "text/x-python",
   "name": "python",
   "nbconvert_exporter": "python",
   "pygments_lexer": "ipython3",
   "version": "3.7.7"
  }
 },
 "nbformat": 4,
 "nbformat_minor": 4
}
