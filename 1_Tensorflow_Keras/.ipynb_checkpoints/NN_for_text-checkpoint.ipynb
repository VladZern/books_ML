{
 "cells": [
  {
   "cell_type": "markdown",
   "metadata": {},
   "source": [
    "# Глубокое обучение для текста и последовательностей"
   ]
  },
  {
   "cell_type": "code",
   "execution_count": 1,
   "metadata": {},
   "outputs": [],
   "source": [
    "from tensorflow.keras.datasets import imdb\n",
    "from tensorflow.keras import preprocessing\n",
    "\n",
    "max_features = 10000 #колличество слов рассматриваемых как признаки\n",
    "maxlen = 20 #Обрезка текста после этого количества слов (в числе max_features самых распространенных слов)\n",
    "\n",
    "(x_train, y_train), (x_test, y_test) = imdb.load_data(num_words=max_features) #Загрузка данных как списков целых чисел\n",
    "\n",
    "x_train = preprocessing.sequence.pad_sequences(x_train, maxlen=maxlen) # Преобразование списков целых чисел в двумерный тензор с целыми числами и с формой (образцы, максимальная_длина)\n",
    "x_test = preprocessing.sequence.pad_sequences(x_test, maxlen=maxlen)"
   ]
  },
  {
   "cell_type": "code",
   "execution_count": 2,
   "metadata": {},
   "outputs": [
    {
     "name": "stdout",
     "output_type": "stream",
     "text": [
      "Model: \"sequential\"\n",
      "_________________________________________________________________\n",
      "Layer (type)                 Output Shape              Param #   \n",
      "=================================================================\n",
      "embedding (Embedding)        (None, 20, 8)             80000     \n",
      "_________________________________________________________________\n",
      "flatten (Flatten)            (None, 160)               0         \n",
      "_________________________________________________________________\n",
      "dense (Dense)                (None, 1)                 161       \n",
      "=================================================================\n",
      "Total params: 80,161\n",
      "Trainable params: 80,161\n",
      "Non-trainable params: 0\n",
      "_________________________________________________________________\n",
      "Train on 20000 samples, validate on 5000 samples\n",
      "Epoch 1/10\n",
      "20000/20000 [==============================] - 4s 214us/sample - loss: 0.6615 - acc: 0.6350 - val_loss: 0.6025 - val_acc: 0.7070\n",
      "Epoch 2/10\n",
      "20000/20000 [==============================] - 1s 51us/sample - loss: 0.5291 - acc: 0.7566 - val_loss: 0.5207 - val_acc: 0.7340\n",
      "Epoch 3/10\n",
      "20000/20000 [==============================] - 1s 52us/sample - loss: 0.4576 - acc: 0.7886 - val_loss: 0.4980 - val_acc: 0.7514\n",
      "Epoch 4/10\n",
      "20000/20000 [==============================] - 1s 52us/sample - loss: 0.4212 - acc: 0.8084 - val_loss: 0.4915 - val_acc: 0.7564\n",
      "Epoch 5/10\n",
      "20000/20000 [==============================] - 1s 58us/sample - loss: 0.3959 - acc: 0.8215 - val_loss: 0.4933 - val_acc: 0.7598\n",
      "Epoch 6/10\n",
      "20000/20000 [==============================] - 1s 50us/sample - loss: 0.3757 - acc: 0.8342 - val_loss: 0.4953 - val_acc: 0.7604\n",
      "Epoch 7/10\n",
      "20000/20000 [==============================] - 1s 52us/sample - loss: 0.3570 - acc: 0.8455 - val_loss: 0.5010 - val_acc: 0.7578\n",
      "Epoch 8/10\n",
      "20000/20000 [==============================] - 1s 50us/sample - loss: 0.3401 - acc: 0.8546 - val_loss: 0.5061 - val_acc: 0.7538\n",
      "Epoch 9/10\n",
      "20000/20000 [==============================] - 1s 50us/sample - loss: 0.3240 - acc: 0.8639 - val_loss: 0.5151 - val_acc: 0.7552\n",
      "Epoch 10/10\n",
      "20000/20000 [==============================] - 1s 50us/sample - loss: 0.3080 - acc: 0.8728 - val_loss: 0.5197 - val_acc: 0.7534\n"
     ]
    }
   ],
   "source": [
    "from tensorflow.keras.models import Sequential\n",
    "from tensorflow.keras.layers import Flatten, Dense, Embedding\n",
    "\n",
    "model = Sequential()\n",
    "model.add(Embedding(10000, 8, input_length=maxlen))\n",
    "model.add(Flatten()) \n",
    "model.add(Dense(1, activation='sigmoid')) \n",
    "\n",
    "model.compile(optimizer='rmsprop', loss='binary_crossentropy', metrics=['acc'])\n",
    "model.summary()\n",
    "\n",
    "history = model.fit(x_train, y_train, epochs=10, batch_size=32, validation_split=0.2)"
   ]
  },
  {
   "cell_type": "markdown",
   "metadata": {},
   "source": [
    "## Использование предварительно обученных векторных представлений слов\n",
    "\n",
    "Мы будем использовать модель, похожую на ту, по которой только что прошлись: преобразуем предложения в последовательности векторов, снизим их размерность и обучим слой Dense сверху. Но за основу мы возьмем предварительно обученные векторные представления слов и вместо использования предварительно токенизированных данных IMDB, входящих в состав Keras, пройдем весь процесс с самого начала — с загрузки исходных текстовых данных."
   ]
  },
  {
   "cell_type": "code",
   "execution_count": 4,
   "metadata": {},
   "outputs": [],
   "source": [
    "import os\n",
    "imdb_dir = 'C:/Users/Vladuk/1_books_ML/1_Tensorflow_Keras/text_classifier/aclImdb'\n",
    "train_dir = os.path.join(imdb_dir, 'train')\n",
    "labels = []\n",
    "texts = []\n",
    "for label_type in ['neg', 'pos']:\n",
    "    dir_name = os.path.join(train_dir, label_type)\n",
    "for fname in os.listdir(dir_name):\n",
    "    if fname[-4:] == '.txt':\n",
    "        f = open(os.path.join(dir_name, fname), encoding='utf-8')\n",
    "        texts.append(f.read())\n",
    "        f.close()\n",
    "        if label_type == 'neg':\n",
    "            labels.append(0)\n",
    "        else:\n",
    "            labels.append(1)"
   ]
  },
  {
   "cell_type": "markdown",
   "metadata": {},
   "source": [
    "### Токенизация данных\n",
    "Теперь преобразуем текст в векторное представление и подготовим обучающую и проверочную выборки, использовав идеи, представленные выше в этом разделе. Поскольку предварительно обученные векторные представления слов особенно полезны в случаях, когда доступны лишь небольшие объемы обучающих данных (в иных ситуациях лучше создавать представления, специализированные для конкретных задач, которые могут оказаться более качественными), мы добавим следующий трюк: ограничим набор обучающих данных первыми 200 образцами. Другими словами, мы попытаемся получить модель классификации отзывов, обучив ее всего на 200 примерах."
   ]
  },
  {
   "cell_type": "code",
   "execution_count": 7,
   "metadata": {},
   "outputs": [
    {
     "name": "stdout",
     "output_type": "stream",
     "text": [
      "Found 64421 unique tokens.\n",
      "Shape of data tensor: (12500, 100)\n",
      "Shape of label tensor: (12500,)\n"
     ]
    }
   ],
   "source": [
    "from tensorflow.keras.preprocessing.text import Tokenizer\n",
    "from tensorflow.keras.preprocessing.sequence import pad_sequences\n",
    "import numpy as np\n",
    "maxlen = 100 #Отсечение остатка отзывов после 100-го слова\n",
    "training_samples = 200 #Обучение на выборке из 200 образцов\n",
    "validation_samples = 10000 #Проверка на выборке из 10 000 образцов\n",
    "max_words = 10000 #Рассмотрение только 10 000 наиболее часто используемых слов\n",
    "tokenizer = Tokenizer(num_words=max_words)\n",
    "tokenizer.fit_on_texts(texts)\n",
    "sequences = tokenizer.texts_to_sequences(texts) #преобразование текстов в последовательность индексов слов\n",
    "word_index = tokenizer.word_index #словарь слово - индекс\n",
    "print('Found %s unique tokens.' % len(word_index))\n",
    "data = pad_sequences(sequences, maxlen=maxlen)\n",
    "labels = np.asarray(labels)\n",
    "print('Shape of data tensor:', data.shape)\n",
    "print('Shape of label tensor:', labels.shape)\n",
    "\n",
    "indices = np.arange(data.shape[0]) # Разбивка данных на обучающую и проверочную выборки,  \n",
    "np.random.shuffle(indices)         # но перед этим данные пере-мешиваются, поскольку отзывы в исходном наборе упорядочены\n",
    "data = data[indices]               # (сначала следуют отрицательные, а потом положительные)\n",
    "labels = labels[indices]\n",
    "x_train = data[:training_samples]\n",
    "y_train = labels[:training_samples]\n",
    "x_val = data[training_samples: training_samples + validation_samples]\n",
    "y_val = labels[training_samples: training_samples + validation_samples]"
   ]
  },
  {
   "cell_type": "markdown",
   "metadata": {},
   "source": [
    "### Загрузка векторного представления GloVe\n",
    "Откройте в браузере страницу https://nlp.stanford.edu/projects/glove и загрузите векторные представления, предварительно обученные на данных из англоязычной Википедии за 2014 год. Этот ZIP-архив размером 822 Мбайт с именем glove.6B.zip содержит 100-мерные векторы с 400 000 слов (токенов)."
   ]
  },
  {
   "cell_type": "code",
   "execution_count": 11,
   "metadata": {},
   "outputs": [
    {
     "name": "stdout",
     "output_type": "stream",
     "text": [
      "Found 400000 word vectors.\n"
     ]
    }
   ],
   "source": [
    "glove_dir = 'C:/Users/Vladuk/1_books_ML/1_Tensorflow_Keras/text_classifier/glove.6B'\n",
    "embeddings_index = {} #словарь слово-вектор\n",
    "f = open(os.path.join(glove_dir, 'glove.6B.100d.txt'), encoding='utf-8')\n",
    "for line in f:\n",
    "    values = line.split()\n",
    "    word = values[0]\n",
    "    coefs = np.asarray(values[1:], dtype='float32')\n",
    "    embeddings_index[word] = coefs \n",
    "f.close()\n",
    "print('Found %s word vectors.' % len(embeddings_index))"
   ]
  },
  {
   "cell_type": "code",
   "execution_count": 12,
   "metadata": {},
   "outputs": [],
   "source": [
    "embedding_dim = 100\n",
    "embedding_matrix = np.zeros((max_words, embedding_dim))\n",
    "for word, i in word_index.items(): \n",
    "    if i < max_words: \n",
    "        embedding_vector = embeddings_index.get(word) \n",
    "    if embedding_vector is not None:\n",
    "        embedding_matrix[i] = embedding_vector # Словам, отсутствующим в индексе представлений, будут соответствовать векторы с нулевыми значениями"
   ]
  },
  {
   "cell_type": "code",
   "execution_count": 13,
   "metadata": {},
   "outputs": [
    {
     "data": {
      "text/plain": [
       "(10000, 100)"
      ]
     },
     "execution_count": 13,
     "metadata": {},
     "output_type": "execute_result"
    }
   ],
   "source": [
    "embedding_matrix.shape"
   ]
  },
  {
   "cell_type": "code",
   "execution_count": 14,
   "metadata": {},
   "outputs": [
    {
     "name": "stdout",
     "output_type": "stream",
     "text": [
      "Model: \"sequential_1\"\n",
      "_________________________________________________________________\n",
      "Layer (type)                 Output Shape              Param #   \n",
      "=================================================================\n",
      "embedding_1 (Embedding)      (None, 100, 100)          1000000   \n",
      "_________________________________________________________________\n",
      "flatten_1 (Flatten)          (None, 10000)             0         \n",
      "_________________________________________________________________\n",
      "dense_1 (Dense)              (None, 32)                320032    \n",
      "_________________________________________________________________\n",
      "dense_2 (Dense)              (None, 1)                 33        \n",
      "=================================================================\n",
      "Total params: 1,320,065\n",
      "Trainable params: 1,320,065\n",
      "Non-trainable params: 0\n",
      "_________________________________________________________________\n"
     ]
    }
   ],
   "source": [
    "from tensorflow.keras.models import Sequential\n",
    "from tensorflow.keras.layers import Embedding, Flatten, Dense\n",
    "model = Sequential()\n",
    "model.add(Embedding(max_words, embedding_dim, input_length=maxlen))\n",
    "model.add(Flatten())\n",
    "model.add(Dense(32, activation='relu'))\n",
    "model.add(Dense(1, activation='sigmoid'))\n",
    "model.summary()"
   ]
  },
  {
   "cell_type": "code",
   "execution_count": 15,
   "metadata": {},
   "outputs": [],
   "source": [
    "model.layers[0].set_weights([embedding_matrix]) #Загрузка предварительно обученных векторных представлений слов в слой Embedding\n",
    "model.layers[0].trainable = False # заморозили слой Embedding"
   ]
  },
  {
   "cell_type": "code",
   "execution_count": 16,
   "metadata": {},
   "outputs": [
    {
     "name": "stdout",
     "output_type": "stream",
     "text": [
      "Train on 200 samples, validate on 10000 samples\n",
      "Epoch 1/10\n",
      "200/200 [==============================] - 5s 25ms/sample - loss: 0.1342 - acc: 0.8950 - val_loss: 4.4319e-05 - val_acc: 1.0000\n",
      "Epoch 2/10\n",
      "200/200 [==============================] - 1s 5ms/sample - loss: 3.2934e-04 - acc: 1.0000 - val_loss: 4.0057e-05 - val_acc: 1.0000\n",
      "Epoch 3/10\n",
      "200/200 [==============================] - 1s 4ms/sample - loss: 2.1264e-04 - acc: 1.0000 - val_loss: 3.0368e-05 - val_acc: 1.0000\n",
      "Epoch 4/10\n",
      "200/200 [==============================] - 1s 4ms/sample - loss: 4.9923e-05 - acc: 1.0000 - val_loss: 2.9789e-05 - val_acc: 1.0000\n",
      "Epoch 5/10\n",
      "200/200 [==============================] - 1s 3ms/sample - loss: 4.5677e-05 - acc: 1.0000 - val_loss: 2.8992e-05 - val_acc: 1.0000\n",
      "Epoch 6/10\n",
      "200/200 [==============================] - 1s 4ms/sample - loss: 3.9824e-05 - acc: 1.0000 - val_loss: 2.7989e-05 - val_acc: 1.0000\n",
      "Epoch 7/10\n",
      "200/200 [==============================] - 1s 4ms/sample - loss: 3.3315e-05 - acc: 1.0000 - val_loss: 2.6680e-05 - val_acc: 1.0000\n",
      "Epoch 8/10\n",
      "200/200 [==============================] - 1s 4ms/sample - loss: 2.6545e-05 - acc: 1.0000 - val_loss: 2.2649e-05 - val_acc: 1.0000\n",
      "Epoch 9/10\n",
      "200/200 [==============================] - 1s 4ms/sample - loss: 1.0601e-05 - acc: 1.0000 - val_loss: 2.2034e-05 - val_acc: 1.0000\n",
      "Epoch 10/10\n",
      "200/200 [==============================] - 1s 4ms/sample - loss: 9.5676e-06 - acc: 1.0000 - val_loss: 2.1245e-05 - val_acc: 1.0000\n"
     ]
    }
   ],
   "source": [
    "model.compile(optimizer='rmsprop', loss='binary_crossentropy', metrics=['acc'])\n",
    "\n",
    "history = model.fit(x_train, y_train, epochs=10, batch_size=32, validation_data=(x_val, y_val))\n",
    "model.save_weights('pre_trained_glove_model.h5')"
   ]
  },
  {
   "cell_type": "code",
   "execution_count": 17,
   "metadata": {},
   "outputs": [
    {
     "data": {
      "image/png": "[encoded data removed]",
      "text/plain": [
       "<Figure size 432x288 with 1 Axes>"
      ]
     },
     "metadata": {
      "needs_background": "light"
     },
     "output_type": "display_data"
    },
    {
     "data": {
      "image/png": "[encoded data removed]",
      "text/plain": [
       "<Figure size 432x288 with 1 Axes>"
      ]
     },
     "metadata": {
      "needs_background": "light"
     },
     "output_type": "display_data"
    }
   ],
   "source": [
    "import matplotlib.pyplot as plt\n",
    "acc = history.history['acc']\n",
    "val_acc = history.history['val_acc']\n",
    "loss = history.history['loss']\n",
    "val_loss = history.history['val_loss']\n",
    "epochs = range(1, len(acc) + 1)\n",
    "plt.plot(epochs, acc, 'bo', label='Training acc')\n",
    "plt.plot(epochs, val_acc, 'b', label='Validation acc')\n",
    "plt.title('Training and validation accuracy')\n",
    "plt.legend()\n",
    "plt.figure()\n",
    "plt.plot(epochs, loss, 'bo', label='Training loss')\n",
    "plt.plot(epochs, val_loss, 'b', label='Validation loss')\n",
    "plt.title('Training and validation loss')\n",
    "plt.legend()\n",
    "plt.show()"
   ]
  },
  {
   "cell_type": "markdown",
   "metadata": {},
   "source": [
    "Оценим модель на контрольной выборке. Сначала токенизируем контрольные данные."
   ]
  },
  {
   "cell_type": "code",
   "execution_count": 19,
   "metadata": {},
   "outputs": [],
   "source": [
    "test_dir = os.path.join(imdb_dir, 'test')\n",
    "labels = []\n",
    "texts = []\n",
    "for label_type in ['neg', 'pos']:\n",
    "    dir_name = os.path.join(test_dir, label_type)\n",
    "for fname in sorted(os.listdir(dir_name)):\n",
    "    if fname[-4:] == '.txt':\n",
    "        f = open(os.path.join(dir_name, fname), encoding='utf-8')\n",
    "        texts.append(f.read())\n",
    "        f.close()\n",
    "    if label_type == 'neg':\n",
    "        labels.append(0)\n",
    "    else:\n",
    "        labels.append(1)\n",
    "sequences = tokenizer.texts_to_sequences(texts)\n",
    "x_test = pad_sequences(sequences, maxlen=maxlen)\n",
    "y_test = np.asarray(labels)"
   ]
  },
  {
   "cell_type": "code",
   "execution_count": 20,
   "metadata": {},
   "outputs": [
    {
     "name": "stdout",
     "output_type": "stream",
     "text": [
      "12500/12500 [==============================] - 1s 69us/sample - loss: 3.4534e-05 - acc: 1.0000\n"
     ]
    },
    {
     "data": {
      "text/plain": [
       "[3.4533709804553305e-05, 1.0]"
      ]
     },
     "execution_count": 20,
     "metadata": {},
     "output_type": "execute_result"
    }
   ],
   "source": [
    "model.evaluate(x_test, y_test)"
   ]
  },
  {
   "cell_type": "markdown",
   "metadata": {},
   "source": [
    "Теперь мы умеем:\n",
    "\n",
    "1) преобразовывать текст в нечто, что можно передать в нейронную сеть;\n",
    "\n",
    "2) использовать слой Embedding в модели Keras для обучения специализированных векторных представлений токенов;\n",
    "\n",
    "3) использовать предварительно обученные векторные представления слов для получения дополнительных выгод в небольших задачах обработки естественного языка."
   ]
  }
 ],
 "metadata": {
  "kernelspec": {
   "display_name": "Python 3",
   "language": "python",
   "name": "python3"
  },
  "language_info": {
   "codemirror_mode": {
    "name": "ipython",
    "version": 3
   },
   "file_extension": ".py",
   "mimetype": "text/x-python",
   "name": "python",
   "nbconvert_exporter": "python",
   "pygments_lexer": "ipython3",
   "version": "3.7.7"
  }
 },
 "nbformat": 4,
 "nbformat_minor": 4
}
