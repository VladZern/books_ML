{
 "cells": [
  {
   "cell_type": "markdown",
   "metadata": {},
   "source": [
    "# Рекуррентная нейронная сеть (Recurrent Neural Network, RNN)\n",
    "\n",
    "Обрабатывает последовательность, перебирая ее элементы и сохраняя состояние, полученное при обработке предыдущих элементов. Фактически RNN — это разновидность нейронной сети, имеющей внутренний цикл (рис. 6.9). Сеть RNN сбрасывает состояние между обработкой двух разных, независимых последовательностей (таких, как два разных отзыва из IMDB), поэтому одна последовательность все еще интерпретируется как единый блок данных: единственный входной пакет. Однако теперь блок данных обрабатывается не за один шаг; сеть выполняет внутренний цикл, перебирая последовательность элементов."
   ]
  },
  {
   "cell_type": "code",
   "execution_count": 1,
   "metadata": {},
   "outputs": [
    {
     "name": "stdout",
     "output_type": "stream",
     "text": [
      "Loading data...\n",
      "25000 train sequences\n",
      "25000 test sequences\n",
      "Pad sequences (samples x time)\n",
      "input_train shape: (25000, 500)\n",
      "input_test shape: (25000, 500)\n"
     ]
    }
   ],
   "source": [
    "from tensorflow.keras.datasets import imdb \n",
    "from tensorflow.keras.preprocessing import sequence\n",
    "\n",
    "max_features = 10000 \n",
    "maxlen = 500 \n",
    "batch_size = 32\n",
    "\n",
    "print('Loading data...')\n",
    "\n",
    "(input_train, y_train), (input_test, y_test) = imdb.load_data( num_words=max_features)\n",
    "print(len(input_train), 'train sequences')\n",
    "print(len(input_test), 'test sequences')\n",
    "print('Pad sequences (samples x time)')\n",
    "\n",
    "input_train = sequence.pad_sequences(input_train, maxlen=maxlen)\n",
    "input_test = sequence.pad_sequences(input_test, maxlen=maxlen)\n",
    "print('input_train shape:', input_train.shape)\n",
    "print('input_test shape:', input_test.shape)"
   ]
  },
  {
   "cell_type": "code",
   "execution_count": 2,
   "metadata": {},
   "outputs": [],
   "source": [
    "from tensorflow.keras.models import Sequential\n",
    "from tensorflow.keras.layers import Embedding, SimpleRNN, Dense\n",
    "\n",
    "model = Sequential()\n",
    "model.add(Embedding(max_features, 32))\n",
    "model.add(SimpleRNN(32))\n",
    "model.add(Dense(1, activation='sigmoid'))\n",
    "model.compile(optimizer='rmsprop', loss='binary_crossentropy', metrics=['acc'])\n",
    "\n"
   ]
  },
  {
   "cell_type": "code",
   "execution_count": 3,
   "metadata": {},
   "outputs": [
    {
     "name": "stdout",
     "output_type": "stream",
     "text": [
      "Train on 20000 samples, validate on 5000 samples\n",
      "Epoch 1/10\n",
      "20000/20000 [==============================] - 67s 3ms/sample - loss: 0.5936 - acc: 0.6567 - val_loss: 0.4166 - val_acc: 0.8236\n",
      "Epoch 2/10\n",
      "20000/20000 [==============================] - 66s 3ms/sample - loss: 0.3627 - acc: 0.8472 - val_loss: 0.3693 - val_acc: 0.8528\n",
      "Epoch 3/10\n",
      "20000/20000 [==============================] - 66s 3ms/sample - loss: 0.2922 - acc: 0.8842 - val_loss: 0.3749 - val_acc: 0.8524\n",
      "Epoch 4/10\n",
      "20000/20000 [==============================] - 68s 3ms/sample - loss: 0.2628 - acc: 0.8964 - val_loss: 0.3674 - val_acc: 0.8508\n",
      "Epoch 5/10\n",
      "20000/20000 [==============================] - 69s 3ms/sample - loss: 0.2089 - acc: 0.9204 - val_loss: 0.4090 - val_acc: 0.8540\n",
      "Epoch 6/10\n",
      "20000/20000 [==============================] - 69s 3ms/sample - loss: 0.1632 - acc: 0.9392 - val_loss: 0.4447 - val_acc: 0.8590\n",
      "Epoch 7/10\n",
      "20000/20000 [==============================] - 70s 4ms/sample - loss: 0.1317 - acc: 0.9519 - val_loss: 0.4395 - val_acc: 0.8570\n",
      "Epoch 8/10\n",
      "20000/20000 [==============================] - 69s 3ms/sample - loss: 0.1012 - acc: 0.9635 - val_loss: 0.5652 - val_acc: 0.8066\n",
      "Epoch 9/10\n",
      "20000/20000 [==============================] - 69s 3ms/sample - loss: 0.0807 - acc: 0.9724 - val_loss: 0.5900 - val_acc: 0.8186\n",
      "Epoch 10/10\n",
      "20000/20000 [==============================] - 70s 4ms/sample - loss: 0.0560 - acc: 0.9821 - val_loss: 0.6799 - val_acc: 0.7966\n"
     ]
    }
   ],
   "source": [
    "history = model.fit(input_train, y_train, epochs=10, batch_size=32, validation_split=0.2)"
   ]
  },
  {
   "cell_type": "code",
   "execution_count": 4,
   "metadata": {},
   "outputs": [
    {
     "data": {
      "image/png": "[encoded data removed]",
      "text/plain": [
       "<Figure size 432x288 with 1 Axes>"
      ]
     },
     "metadata": {
      "needs_background": "light"
     },
     "output_type": "display_data"
    },
    {
     "data": {
      "image/png": "[encoded data removed]",
      "text/plain": [
       "<Figure size 432x288 with 1 Axes>"
      ]
     },
     "metadata": {
      "needs_background": "light"
     },
     "output_type": "display_data"
    }
   ],
   "source": [
    "import matplotlib.pyplot as plt\n",
    "acc = history.history['acc']\n",
    "val_acc = history.history['val_acc']\n",
    "loss = history.history['loss']\n",
    "val_loss = history.history['val_loss']\n",
    "epochs = range(1, len(acc) + 1)\n",
    "plt.plot(epochs, acc, 'bo', label='Training acc')\n",
    "plt.plot(epochs, val_acc, 'b', label='Validation acc')\n",
    "plt.title('Training and validation accuracy')\n",
    "plt.legend()\n",
    "plt.figure()\n",
    "plt.plot(epochs, loss, 'bo', label='Training loss')\n",
    "plt.plot(epochs, val_loss, 'b', label='Validation loss')\n",
    "plt.title('Training and validation loss')\n",
    "plt.legend()\n",
    "plt.show()"
   ]
  },
  {
   "cell_type": "markdown",
   "metadata": {},
   "source": [
    "### Слои LSTM и GRU"
   ]
  },
  {
   "cell_type": "code",
   "execution_count": null,
   "metadata": {},
   "outputs": [],
   "source": [
    "from tensorflow.keras.layers import LSTM\n",
    "model = Sequential()\n",
    "model.add(Embedding(max_features, 32))\n",
    "model.add(LSTM(32))\n",
    "model.add(Dense(1, activation='sigmoid'))\n",
    "model.compile(optimizer='rmsprop', loss='binary_crossentropy', metrics=['acc'])\n",
    "\n",
    "history = model.fit(input_train, y_train, epochs=10, batch_size=128, validation_split=0.2)"
   ]
  },
  {
   "cell_type": "code",
   "execution_count": null,
   "metadata": {},
   "outputs": [],
   "source": [
    "import matplotlib.pyplot as plt\n",
    "acc = history.history['acc']\n",
    "val_acc = history.history['val_acc']\n",
    "loss = history.history['loss']\n",
    "val_loss = history.history['val_loss']\n",
    "epochs = range(1, len(acc) + 1)\n",
    "plt.plot(epochs, acc, 'bo', label='Training acc')\n",
    "plt.plot(epochs, val_acc, 'b', label='Validation acc')\n",
    "plt.title('Training and validation accuracy')\n",
    "plt.legend()\n",
    "plt.figure()\n",
    "plt.plot(epochs, loss, 'bo', label='Training loss')\n",
    "plt.plot(epochs, val_loss, 'b', label='Validation loss')\n",
    "plt.title('Training and validation loss')\n",
    "plt.legend()\n",
    "plt.show()"
   ]
  },
  {
   "cell_type": "markdown",
   "metadata": {},
   "source": [
    "### Улучшенные методы использования рекуррентных нейронных сетей\n",
    "\n",
    "1) рекуррентное прореживание — особый встроенный способ использования прореживания для борьбы с переобучением в рекуррентных слоях;\n",
    "\n",
    "2) наложение рекуррентных слоев — способ увеличения репрезентативности сети (за счет увеличения объема вычислений);\n",
    "\n",
    "3) двунаправленные рекуррентные слои — представляют одну и ту же информацию в рекуррентной сети разными способами, повышая точность и ослабляя проблемы, связанные с забыванием."
   ]
  },
  {
   "cell_type": "markdown",
   "metadata": {},
   "source": [
    "### Задача прогнозирования температуры\n",
    "\n",
    "Во всех примерах в этом разделе будут использоваться временные последовательности данных о погоде, записанных на гидрометеорологической станции в институте биогеохимии Макса Планка в Йене (Jena), Германия1.\n",
    "В этот набор данных включены замеры 14 разных характеристик (таких, как температура, атмосферное давление, влажность, направление ветра и т. д.), выполнявшиеся каждые 10 минут в течение нескольких лет. Вообще сбор данных был начат в 2003-м, но в этот пример включены только данные за 2009–2016 годы. Этот набор данных идеально подходит для изучения принципов работы с числовыми временными рядами. Мы воспользуемся ими для создания модели, принимающей на входе некоторые данные о погоде в ближайшем прошлом (за несколько дней) и прогнозирующей температуру воздуха на ближайшие 24 часа в будущем."
   ]
  },
  {
   "cell_type": "code",
   "execution_count": 2,
   "metadata": {},
   "outputs": [
    {
     "name": "stdout",
     "output_type": "stream",
     "text": [
      "['\"Date Time\"', '\"p (mbar)\"', '\"T (degC)\"', '\"Tpot (K)\"', '\"Tdew (degC)\"', '\"rh (%)\"', '\"VPmax (mbar)\"', '\"VPact (mbar)\"', '\"VPdef (mbar)\"', '\"sh (g/kg)\"', '\"H2OC (mmol/mol)\"', '\"rho (g/m**3)\"', '\"wv (m/s)\"', '\"max. wv (m/s)\"', '\"wd (deg)\"']\n",
      "420551\n"
     ]
    }
   ],
   "source": [
    "import os\n",
    "data_dir = 'C:/Users/Vladuk/1_books_ML/1_Tensorflow_Keras/RNN/jena_climate'\n",
    "fname = os.path.join(data_dir, 'jena_climate_2009_2016.csv')\n",
    "f = open(fname)\n",
    "data = f.read()\n",
    "f.close()\n",
    "lines = data.split('\\n')\n",
    "header = lines[0].split(',')\n",
    "lines = lines[1:]\n",
    "print(header)\n",
    "print(len(lines))"
   ]
  },
  {
   "cell_type": "code",
   "execution_count": 3,
   "metadata": {},
   "outputs": [],
   "source": [
    "import numpy as np\n",
    "float_data = np.zeros((len(lines), len(header) - 1))\n",
    "for i, line in enumerate(lines):\n",
    "    values = [float(x) for x in line.split(',')[1:]]\n",
    "    float_data[i, :] = values"
   ]
  },
  {
   "cell_type": "code",
   "execution_count": 4,
   "metadata": {},
   "outputs": [
    {
     "data": {
      "text/plain": [
       "[<matplotlib.lines.Line2D at 0x40056c8>]"
      ]
     },
     "execution_count": 4,
     "metadata": {},
     "output_type": "execute_result"
    },
    {
     "data": {
      "image/png": "[encoded data removed]",
      "text/plain": [
       "<Figure size 432x288 with 1 Axes>"
      ]
     },
     "metadata": {
      "needs_background": "light"
     },
     "output_type": "display_data"
    }
   ],
   "source": [
    "from matplotlib import pyplot as plt\n",
    "temp = float_data[:, 1] # температура (в градусах Цельсия)\n",
    "plt.plot(range(len(temp)), temp) # данные записываются каждые 10 минут, за сутки накапливается 144 замер"
   ]
  },
  {
   "cell_type": "code",
   "execution_count": 5,
   "metadata": {},
   "outputs": [
    {
     "data": {
      "text/plain": [
       "[<matplotlib.lines.Line2D at 0x40bed48>]"
      ]
     },
     "execution_count": 5,
     "metadata": {},
     "output_type": "execute_result"
    },
    {
     "data": {
      "image/png": "[encoded data removed]",
      "text/plain": [
       "<Figure size 432x288 with 1 Axes>"
      ]
     },
     "metadata": {
      "needs_background": "light"
     },
     "output_type": "display_data"
    }
   ],
   "source": [
    "plt.plot(range(1440), temp[:1440]) #Создание графика изменения температуры по данным за первые 10 дней"
   ]
  },
  {
   "cell_type": "markdown",
   "metadata": {},
   "source": [
    "Если бы мы предсказывали среднюю температуру на следующий месяц по данным за несколько предыдущих месяцев, эта не составило бы большого труда благодаря устойчивой периодичности в масштабах года. Однако изменение температуры в масштабе нескольких дней выглядит более хаотичным. Можно ли с высокой надежностью предсказать временную последовательность в масштабе суток? Давайте посмотрим."
   ]
  },
  {
   "cell_type": "markdown",
   "metadata": {},
   "source": [
    "### Подготовка данных\n",
    "\n",
    "Вот точная формулировка задачи: по lookback интервалам (один интервал равен 10 минутам) за прошлый период, из которых отобраны образцы через каждые step интервалов, предсказать температуру на следующие delay интервалов. Мы будем использовать следующие значения параметров:\n",
    "\n",
    "1) lookback = 720 — количество наблюдений за предыдущие 5 дней;\n",
    "\n",
    "2) step = 6 — шаг отбора образцов из наблюдений, то есть один образец за каждый час;\n",
    "\n",
    "3) delay = 144 — целью являются следующие 24 часа в будущем."
   ]
  },
  {
   "cell_type": "markdown",
   "metadata": {},
   "source": [
    "Прежде всего нам понадобится:\n",
    "\n",
    "1) Преобразовать данные в формат, понятный нейронной сети. Это легко: данные уже представлены в числовом виде, поэтому нам не придется как-то векторизовать их. Однако все временные последовательности в данных имеют разный масштаб (например, температура обычно находится в диапазоне между –20 и +30, а атмосферное давление, измеряемое в миллибарах, изменяется около значения 1000). Мы должны нормализовать временные последовательности независимо друг от друга, чтобы все они состояли из небольших по величине значений примерно одинакового масштаба.\n",
    "\n",
    "2) Написать на Python генератор, который принимает текущий массив данных и возвращает пакеты данных, представляющие собой недавнее прошлое, а также целевую температуру в будущем. Поскольку образцы в наборе данных излишне избыточны (образцы N и N + 1 будут иметь много общего), было бы расточительством явно выделять и использовать каждый образец. Вместо этого мы будем генерировать образцы на лету, используя исходные данные."
   ]
  },
  {
   "cell_type": "code",
   "execution_count": 6,
   "metadata": {},
   "outputs": [],
   "source": [
    "# Нормализация данных\n",
    "# Для обучения мы используем первые 200 000 замеров, поэтому среднее и стандартное отклонение должны вычисляться\n",
    "# только по этой выборке\n",
    "mean = float_data[:200000].mean(axis=0)\n",
    "float_data -= mean\n",
    "std = float_data[:200000].std(axis=0)\n",
    "float_data /= std"
   ]
  },
  {
   "cell_type": "markdown",
   "metadata": {},
   "source": [
    "Функция generator возвращает кортеж (образцы, цели), где образцы — это один пакет входных данных, а цели — соответствующий массив целевых температур. Функция принимает следующие аргументы:\n",
    "\n",
    "1) data — исходный массив вещественных чисел, нормализованных;\n",
    "\n",
    "2) lookback — количество интервалов в прошлом от заданного момента, за которое отбираются входные данные;\n",
    "\n",
    "3) delay — количество интервалов в будущем от заданного момента, за которое отбираются целевые данные;\n",
    "\n",
    "4) min_index и max_index — индексы в массиве data, ограничивающие область для извлечения данных; это помогает оставить в неприкосновенности сегменты проверочных и контрольных данных;\n",
    "\n",
    "5) shuffle — флаг, определяющий порядок извлечения образцов: с перемешиванием или в хронологическом порядке;\n",
    "\n",
    "6) batch_size — количество образцов в пакете;\n",
    "\n",
    "7) step — период в интервалах, из которого извлекается один образец; мы установим его равным 6, чтобы получить по одному образцу за каждый час."
   ]
  },
  {
   "cell_type": "code",
   "execution_count": 20,
   "metadata": {},
   "outputs": [],
   "source": [
    "def generator(data, lookback, delay, min_index, max_index, shuffle=False, batch_size=128, step=6):\n",
    "    if max_index is None:\n",
    "        max_index = len(data) - delay - 1\n",
    "    i = min_index + lookback\n",
    "    while 1:\n",
    "        if shuffle:\n",
    "            rows = np.random.randint(min_index + lookback, max_index, size=batch_size)\n",
    "        else:\n",
    "            if i + batch_size >= max_index:\n",
    "                i = min_index + lookback\n",
    "            rows = np.arange(i, min(i + batch_size, max_index))\n",
    "            i += len(rows)\n",
    "        samples = np.zeros((len(rows),lookback // step, data.shape[-1]))\n",
    "        targets = np.zeros((len(rows),))\n",
    "        for j, row in enumerate(rows):\n",
    "            indices = range(rows[j] - lookback, rows[j], step)\n",
    "            samples[j] = data[indices]\n",
    "            targets[j] = data[rows[j] + delay][1]\n",
    "        yield samples, targets"
   ]
  },
  {
   "cell_type": "code",
   "execution_count": 21,
   "metadata": {},
   "outputs": [],
   "source": [
    "lookback = 1440\n",
    "step = 6\n",
    "delay = 144\n",
    "batch_size = 128\n",
    "train_gen = generator(float_data, lookback=lookback, delay=delay, min_index=0, max_index=200000, shuffle=True, \n",
    "                      step=step, batch_size=batch_size)\n",
    "val_gen = generator(float_data, lookback=lookback, delay=delay, min_index=200001, max_index=300000, \n",
    "                    step=step, batch_size=batch_size)\n",
    "test_gen = generator(float_data, lookback=lookback, delay=delay, min_index=300001, max_index=None, \n",
    "                     step=step, batch_size=batch_size)\n",
    "val_steps = (300000 - 200001 - lookback) // batch_size #Сколько раз нужно обратиться к val_gen, чтобы получить проверочный набор данных целиком\n",
    "test_steps = (len(float_data) - 300001 - lookback) // batch_size #Сколько раз нужно обратиться к test_gen, чтобы получить контрольный набор данных целиком"
   ]
  },
  {
   "cell_type": "code",
   "execution_count": 24,
   "metadata": {},
   "outputs": [
    {
     "name": "stdout",
     "output_type": "stream",
     "text": [
      "0.2897359729905486\n"
     ]
    }
   ],
   "source": [
    "# Базовое решение. Завтра температура такая же как вчера. Оценим MAE.\n",
    "def evaluate_naive_method():\n",
    "    batch_maes = []\n",
    "    for step in range(val_steps):\n",
    "        samples, targets = next(val_gen)\n",
    "        preds = samples[:, -1, 1]\n",
    "        mae = np.mean(np.abs(preds - targets))\n",
    "        batch_maes.append(mae)\n",
    "    print(np.mean(batch_maes))\n",
    "evaluate_naive_method()"
   ]
  },
  {
   "cell_type": "markdown",
   "metadata": {},
   "source": [
    "### Базовое решение c привлечением машинного обучения (полносвязная сеть)"
   ]
  },
  {
   "cell_type": "code",
   "execution_count": 25,
   "metadata": {},
   "outputs": [
    {
     "name": "stdout",
     "output_type": "stream",
     "text": [
      "WARNING:tensorflow:From <ipython-input-25-5d82b4859203>:10: Model.fit_generator (from tensorflow.python.keras.engine.training) is deprecated and will be removed in a future version.\n",
      "Instructions for updating:\n",
      "Please use Model.fit, which supports generators.\n",
      "WARNING:tensorflow:sample_weight modes were coerced from\n",
      "  ...\n",
      "    to  \n",
      "  ['...']\n",
      "WARNING:tensorflow:sample_weight modes were coerced from\n",
      "  ...\n",
      "    to  \n",
      "  ['...']\n",
      "Train for 500 steps, validate for 769 steps\n",
      "Epoch 1/20\n",
      "500/500 [==============================] - 19s 38ms/step - loss: 1.0716 - val_loss: 0.5456 - loss: \n",
      "Epoch 2/20\n",
      "500/500 [==============================] - 17s 34ms/step - loss: 0.3864 - val_loss: 0.3396\n",
      "Epoch 3/20\n",
      "500/500 [==============================] - 17s 34ms/step - loss: 0.2869 - val_loss: 0.3007\n",
      "Epoch 4/20\n",
      "500/500 [==============================] - 17s 34ms/step - loss: 0.2646 - val_loss: 0.3249\n",
      "Epoch 5/20\n",
      "500/500 [==============================] - 17s 34ms/step - loss: 0.2538 - val_loss: 0.3025\n",
      "Epoch 6/20\n",
      "500/500 [==============================] - 17s 34ms/step - loss: 0.2436 - val_loss: 0.3155\n",
      "Epoch 7/20\n",
      "500/500 [==============================] - 18s 36ms/step - loss: 0.2392 - val_loss: 0.3133\n",
      "Epoch 8/20\n",
      "500/500 [==============================] - 18s 36ms/step - loss: 0.2328 - val_loss: 0.3406\n",
      "Epoch 9/20\n",
      "500/500 [==============================] - 17s 35ms/step - loss: 0.2307 - val_loss: 0.3221\n",
      "Epoch 10/20\n",
      "500/500 [==============================] - 18s 35ms/step - loss: 0.2254 - val_loss: 0.3272\n",
      "Epoch 11/20\n",
      "500/500 [==============================] - 18s 37ms/step - loss: 0.2224 - val_loss: 0.3183\n",
      "Epoch 12/20\n",
      "500/500 [==============================] - 18s 36ms/step - loss: 0.2201 - val_loss: 0.3243\n",
      "Epoch 13/20\n",
      "500/500 [==============================] - 17s 34ms/step - loss: 0.2153 - val_loss: 0.3351\n",
      "Epoch 14/20\n",
      "500/500 [==============================] - 17s 35ms/step - loss: 0.2141 - val_loss: 0.3380\n",
      "Epoch 15/20\n",
      "500/500 [==============================] - 18s 35ms/step - loss: 0.2106 - val_loss: 0.3295\n",
      "Epoch 16/20\n",
      "500/500 [==============================] - 18s 36ms/step - loss: 0.2086 - val_loss: 0.3299\n",
      "Epoch 17/20\n",
      "500/500 [==============================] - 18s 35ms/step - loss: 0.2069 - val_loss: 0.3575\n",
      "Epoch 18/20\n",
      "500/500 [==============================] - 18s 36ms/step - loss: 0.2041 - val_loss: 0.3467\n",
      "Epoch 19/20\n",
      "500/500 [==============================] - 18s 36ms/step - loss: 0.2020 - val_loss: 0.3525\n",
      "Epoch 20/20\n",
      "500/500 [==============================] - 19s 37ms/step - loss: 0.2019 - val_loss: 0.3242\n"
     ]
    }
   ],
   "source": [
    "from tensorflow.keras.models import Sequential\n",
    "from tensorflow.keras import layers\n",
    "from tensorflow.keras.optimizers import RMSprop\n",
    "model = Sequential()\n",
    "model.add(layers.Flatten(input_shape=(lookback // step, float_data.shape[-1])))\n",
    "model.add(layers.Dense(32, activation='relu'))\n",
    "model.add(layers.Dense(1))\n",
    "model.compile(optimizer=RMSprop(), loss='mae')\n",
    "history = model.fit_generator(train_gen, steps_per_epoch=500, epochs=20, validation_data=val_gen, validation_steps=val_steps)"
   ]
  },
  {
   "cell_type": "code",
   "execution_count": 26,
   "metadata": {},
   "outputs": [
    {
     "data": {
      "image/png": "[encoded data removed]",
      "text/plain": [
       "<Figure size 432x288 with 1 Axes>"
      ]
     },
     "metadata": {
      "needs_background": "light"
     },
     "output_type": "display_data"
    }
   ],
   "source": [
    "import matplotlib.pyplot as plt\n",
    "loss = history.history['loss']\n",
    "val_loss = history.history['val_loss']\n",
    "epochs = range(1, len(loss) + 1)\n",
    "plt.figure()\n",
    "plt.plot(epochs, loss, 'bo', label='Training loss')\n",
    "plt.plot(epochs, val_loss, 'b', label='Validation loss')\n",
    "plt.title('Training and validation loss')\n",
    "plt.legend()\n",
    "plt.show()"
   ]
  },
  {
   "cell_type": "markdown",
   "metadata": {},
   "source": [
    "### Первое базовое рекуррентное решение\n",
    "\n",
    "Первое полносвязное решение не дало хорошего результата, но это не означает, что машинное обучение неприменимо к данной задаче. В предыдущем подходе первым действием было уменьшение размерности временных последовательностей, устранившее понятие времени из входных данных. Теперь посмотрим на эти данные как на то, чем они являются в действительности: последовательность, в которой важны причина и следствие. Попробуем использовать рекуррентную модель обработки последовательностей — она должна идеально подходить для таких последовательностей данных как раз потому, что, в отличие от первого решения, учитывает упорядочение образцов во времени.\n",
    "Вместо слоя LSTM, представленного в предыдущем разделе, используем слой GRU, разработанный Чангом (Chung) с коллегами в 2014-м1. Слои управляемых рекуррентных блоков (Gated Recurrent Unit, GRU) основаны на том же принципе, что и слои LSTM, однако они представляют собой более простые структуры и, соответственно, менее затратны в вычислительном смысле (хотя могут не иметь такой же репрезентативной мощности, как LSTM). Этот компромисс между затратностью вычислений и репрезентативной мощностью можно наблюдать повсюду в области машинного обучения."
   ]
  },
  {
   "cell_type": "code",
   "execution_count": null,
   "metadata": {},
   "outputs": [],
   "source": [
    "from tensorflow.keras.models import Sequential\n",
    "from tensorflow.keras import layers\n",
    "from tensorflow.keras.optimizers import RMSprop\n",
    "model = Sequential()\n",
    "model.add(layers.GRU(32, input_shape=(None, float_data.shape[-1])))\n",
    "model.add(layers.Dense(1))\n",
    "model.compile(optimizer=RMSprop(), loss='mae')\n",
    "\n",
    "history = model.fit_generator(train_gen, steps_per_epoch=500, epochs=20, validation_data=val_gen, validation_steps=val_steps)"
   ]
  },
  {
   "cell_type": "code",
   "execution_count": null,
   "metadata": {},
   "outputs": [],
   "source": [
    "import matplotlib.pyplot as plt\n",
    "loss = history.history['loss']\n",
    "val_loss = history.history['val_loss']\n",
    "epochs = range(1, len(loss) + 1)\n",
    "plt.figure()\n",
    "plt.plot(epochs, loss, 'bo', label='Training loss')\n",
    "plt.plot(epochs, val_loss, 'b', label='Validation loss')\n",
    "plt.title('Training and validation loss')\n",
    "plt.legend()\n",
    "plt.show()"
   ]
  },
  {
   "cell_type": "markdown",
   "metadata": {},
   "source": [
    "### Использование рекуррентного прореживания для борьбы с переобучением\n",
    "\n",
    "Правильное применение прореживания в рекуррентных сетях — сложная задача. Давно известно, что применение прореживания перед рекуррентным слоем скорее мешает обучению, а не помогает регуляризации. В 2015 году Ярин Гал (Yarin Gal), в рамках своей докторской диссертации по байесовскому глубокому обучению1, определил правильный способ применения прореживания к рекуррентным сетям: ко всем временным интервалам должна применяться одна и та же маска прореживания (должны обнуляться одни и те же значения) и не изменяться от интервала к интервалу. Более того, для регуляризации представлений, сформированных рекуррентными слоями, такими как GRU и LSTM, временно-постоянная маска прореживания должна применяться к внутренним рекуррентным активациям слоя (рекуррентная маска прореживания). Применение той же маски прореживания к каждому интервалу времени позволяет сети правильно распространить свою ошибку обучения во времени; временно-случайная маска нарушит этот сигнал ошибки и навредит процессу обучения.\n",
    "\n",
    "Каждый рекуррентный слой в Keras обладает двумя аргументами, имеющими отношение к прореживанию: dropout, вещественным числом, определяющим долю прореживаемых входных значений слоя, и recurrent_dropout, определяющим долю прореживаемых рекуррентных значений. Давайте добавим прореживание входных и рекуррентных значений в слой GRU и посмотрим, как это повлияет на переобучение. Поскольку сети, регуляризованные с применением прореживания, всегда требуют больше времени для полной сходимости, обучим сеть за количество эпох в два раза большее"
   ]
  },
  {
   "cell_type": "code",
   "execution_count": null,
   "metadata": {},
   "outputs": [],
   "source": [
    "from tensorflow.keras.models import Sequential\n",
    "from tensorflow.keras import layers\n",
    "from tensorflow.keras.optimizers import RMSprop\n",
    "model = Sequential()\n",
    "model.add(layers.GRU(32, dropout=0.2, recurrent_dropout=0.2, input_shape=(None, float_data.shape[-1])))\n",
    "model.add(layers.Dense(1))\n",
    "model.compile(optimizer=RMSprop(), loss='mae')\n",
    "\n",
    "history = model.fit_generator(train_gen, steps_per_epoch=500, epochs=40, validation_data=val_gen, validation_steps=val_steps)"
   ]
  },
  {
   "cell_type": "markdown",
   "metadata": {},
   "source": [
    "### Наложение нескольких рекуррентных слоев друг на друга\n",
    "\n",
    "Избавившись от эффекта переобучения, мы столкнулись с проблемой низкого качества, поэтому теперь нужно подумать об увеличении емкости сети. Вспомните описание обобщенного процесса машинного обучения: рекомендуется всегда стараться увеличивать емкость сети, пока на первое место не выйдет проблема переобучения (при условии, что предприняты все основные меры против нее, такие как прореживание). Пока проблема переобучения не стоит остро, вероятно, сеть имеет недостаточную емкость.\n",
    "Увеличение емкости сети обычно осуществляется за счет увеличения числа параметров слоя или добавления дополнительных слоев. Наложение рекуррентных слоев друг на друга — классический способ конструирования более мощных рекуррентных сетей: например, в настоящее время алгоритм Google Translate представляет собой стек из семи больших слоев LSTM — это огромная сеть.\n",
    "При наложении друг на друга рекуррентных слоев в Keras все промежуточные слои должны возвращать полные выходные последовательности (трехмерный тензор), а не только последний интервал. Это достигается установкой параметра return_sequences=True."
   ]
  },
  {
   "cell_type": "code",
   "execution_count": null,
   "metadata": {},
   "outputs": [],
   "source": [
    "from  tensorflow.keras.models import Sequential\n",
    "from  tensorflow.keras import layers\n",
    "from  tensorflow.keras.optimizers import RMSprop\n",
    "model = Sequential()\n",
    "model.add(layers.GRU(32, dropout=0.1, recurrent_dropout=0.5, return_sequences=True, input_shape=(None, float_data.shape[-1])))\n",
    "model.add(layers.GRU(64, activation='relu', dropout=0.1, recurrent_dropout=0.5))\n",
    "model.add(layers.Dense(1))\n",
    "model.compile(optimizer=RMSprop(), loss='mae')\n",
    "\n",
    "history = model.fit_generator(train_gen, steps_per_epoch=500, epochs=40, validation_data=val_gen, validation_steps=val_steps)"
   ]
  },
  {
   "cell_type": "markdown",
   "metadata": {},
   "source": [
    "Выводы:\n",
    "\n",
    "1) Поскольку проблема переобучения все еще не стоит остро, можно продолжить увеличивать размеры слоев в попытках улучшить оценку потерь на этапе проверки. Однако это сопряжено с немалыми затратами вычислительных ресурсов.\n",
    "\n",
    "2) Добавление слоя не привело к существенному улучшению, то есть в данном случае наблюдается уменьшение отдачи от увеличения емкости сети."
   ]
  },
  {
   "cell_type": "markdown",
   "metadata": {},
   "source": [
    "### Использование двунаправленных рекуррентных нейронных сетей (bidirectional RNN)\n",
    "\n",
    "Рекуррентные сети зависят от порядка или от времени: они обрабатывают входные последовательности по порядку, и любое изменение порядка следования данных может полностью изменить представление, которое рекуррентная сеть извлечет из последовательности. Именно поэтому они так хорошо справляются с задачами, в которых порядок имеет значение, такими как задача прогнозирования температуры. Двунаправленная рекуррентная сеть использует чувствительность RNN к порядку: она состоит из двух обычных рекуррентных сетей, таких как слои GRU и LSTM, с которыми вы уже знакомы, каждая из этих сетей обрабатывает входную последовательность в одном направлении (прямом или обратном), и затем полученные представления объединяются. Обрабатывая последовательность в двух направлениях, двунаправленная рекуррентная сеть способна выявить шаблоны, незаметные для однонаправленной сети.\n",
    "\n",
    "Для создания двунаправленной рекуррентной сети в Keras имеется слой Bidirectional, который в своем первом аргументе принимает экземпляр рекуррентного слоя. Слой Bidirectional создает второй, отдельный экземпляр этого рекуррентного слоя и использует один экземпляр для обработки входных последовательностей в прямом порядке, а другой — в обратном."
   ]
  },
  {
   "cell_type": "code",
   "execution_count": null,
   "metadata": {},
   "outputs": [],
   "source": [
    "from tensorflow.keras.models import Sequential\n",
    "from tensorflow.keras import layers\n",
    "from tensorflow.keras.optimizers import RMSprop\n",
    "model = Sequential()\n",
    "model.add(layers.Bidirectional( layers.GRU(32), input_shape=(None, float_data.shape[-1])))\n",
    "model.add(layers.Dense(1))\n",
    "model.compile(optimizer=RMSprop(), loss='mae')\n",
    "history = model.fit_generator(train_gen, steps_per_epoch=500, epochs=40, validation_data=val_gen, validation_steps=val_steps)"
   ]
  },
  {
   "cell_type": "markdown",
   "metadata": {},
   "source": [
    "Качество этой модели ничуть не улучшилось по сравнению с обычным слоем GRU. Легко понять почему: все прогностические способности исходят из половины сети, обрабатывающей данные в прямом хронологическом порядке, потому что, как мы уже выяснили, качество половины, обрабатывающей данные в обратном порядке, сильно отстает в этой задаче"
   ]
  },
  {
   "cell_type": "markdown",
   "metadata": {},
   "source": [
    "Существует множество других приемов, которые можно было бы попробовать применить, чтобы улучшить качество прогнозирования температуры:\n",
    "\n",
    "1) Изменить количество параметров в каждом рекуррентном слое в конфигурации с несколькими слоями. Текущий выбор был сделан практически произвольно и поэтому наверняка не является оптимальным.\n",
    "\n",
    "2) Изменить скорость обучения с помощью оптимизатора RMSprop.\n",
    "\n",
    "3) Попробовать использовать слои LSTM вместо GRU.\n",
    "\n",
    "4) Попробовать использовать больший полносвязный регрессор поверх рекуррентных слоев, то есть больший слой Dense или даже несколько слоев Dense.\n",
    "\n",
    "5) Опробовать лучшие модели (с точки зрения средней абсолютной ошибки) на контрольном наборе! Иначе у вас будут получаться архитектуры, переобученные на проверочном наборе."
   ]
  },
  {
   "cell_type": "markdown",
   "metadata": {},
   "source": [
    "### Выводы:\n",
    "\n",
    "1) Всегда желательно получить базовое решение, опираясь на метрики по вашему выбору. Если у вас не будет такого базового решения, на которое можно ориентироваться, вы не сможете сказать, движетесь ли вы в правильном направлении.\n",
    "\n",
    "2) Пробуйте сначала создавать простые модели, чтобы убедиться в необходимости приложения дополнительных усилий. Иногда простая модель может оказаться лучшим решением.\n",
    "\n",
    "3) Для обработки данных, в которых порядок следования имеет значение, лучше всего подходят рекуррентные сети — они с легкостью превосходят модели, которые сначала снижают размерность исходных данных.\n",
    "\n",
    "4) Применяя прием прореживания с рекуррентными сетями, использyйте временно-постоянные и рекуррентные маски прореживания. В Keras уже имеются встроенные рекуррентные слои, поэтому вам останется только определить их аргументы dropout и recurrent_dropout.\n",
    "\n",
    "5) Комбинации из нескольких рекуррентных слоев обеспечивают большую репрезентативность, чем один слой. Они также являются намного более затратными с точки зрения вычислений, и поэтому их применение не всегда оправданно. Они позволяют повысить качество решения сложных задач (таких, как машинный перевод), но не всегда подходят для небольших и простых задач.\n",
    "\n",
    "6) Двунаправленные рекуррентные сети, просматривающие последовательность данных в обоих направлениях, дают хорошие результаты в задачах обработки естественного языка. Но они мало пригодны для обработки последовательностей, в которых недавние данные информативнее, чем находящиеся в начале.\n",
    "\n",
    "7) Существует еще два важных понятия, которые мы не будем подробно обсуждать здесь: рекуррентные модели с механизмом внимания (recurrent attention) и маскировка последовательностей (sequence masking). Оба способа хорошо подходят для обработки естественного языка и плохо — для прогнозирования температуры."
   ]
  },
  {
   "cell_type": "markdown",
   "metadata": {},
   "source": [
    "## Объединение сверточных и рекуррентных сетей для обработки длинных последовательностей\n",
    "\n",
    "Одна из стратегий объединить скорость и легкость сверточных сетей с чувствительностью к порядку рекуррентных сетей заключается в использовании одномерной сверточной сети для предварительной обработки данных перед передачей их в рекуррентную сеть. Этот прием оказывается особенно выгодным, когда имеющиеся последовательности настолько длинны (с несколькими тысяча ми интервалов и больше), что их нереально обработать с помощью рекуррентной сети. Сверточная часть превратит длинную входную последовательность в более короткую последовательность высокоуровневых признаков (уменьшив ее разрешение). А затем последовательность выделенных признаков подается на вход рекуррентной части сети."
   ]
  },
  {
   "cell_type": "code",
   "execution_count": null,
   "metadata": {},
   "outputs": [],
   "source": [
    "step = 3\n",
    "lookback = 720\n",
    "delay = 144\n",
    "train_gen = generator(float_data, lookback=lookback, delay=delay, max_index=200000, shuffle=True, step=step)\n",
    "\n",
    "val_gen = generator(float_data, lookback=lookback, delay=delay, min_index=200001, max_index=300000, step=step)\n",
    "\n",
    "test_gen = generator(float_data, lookback=lookback, delay=delay, min_index=300001, max_index=None, step=step)\n",
    "\n",
    "val_steps = (300000 - 200001 - lookback) // 128\n",
    "test_steps = (len(float_data) - 300001 - lookback) // 128"
   ]
  },
  {
   "cell_type": "code",
   "execution_count": null,
   "metadata": {},
   "outputs": [],
   "source": [
    "from tensorflow.keras.models import Sequential\n",
    "from tensorflow.keras import layers\n",
    "from tensorflow.keras.optimizers import RMSprop\n",
    "\n",
    "model = Sequential()\n",
    "model.add(layers.Conv1D(32, 5, activation='relu', input_shape=(None, float_data.shape[-1])))\n",
    "model.add(layers.MaxPooling1D(3))\n",
    "model.add(layers.Conv1D(32, 5, activation='relu'))\n",
    "model.add(layers.GRU(32, dropout=0.1, recurrent_dropout=0.5))\n",
    "model.add(layers.Dense(1))\n",
    "model.summary()\n",
    "model.compile(optimizer=RMSprop(), loss='mae')\n",
    "\n",
    "history = model.fit_generator(train_gen, steps_per_epoch=500, epochs=20, validation_data=val_gen, validation_steps=val_steps)"
   ]
  },
  {
   "cell_type": "code",
   "execution_count": null,
   "metadata": {},
   "outputs": [],
   "source": []
  }
 ],
 "metadata": {
  "kernelspec": {
   "display_name": "Python 3",
   "language": "python",
   "name": "python3"
  },
  "language_info": {
   "codemirror_mode": {
    "name": "ipython",
    "version": 3
   },
   "file_extension": ".py",
   "mimetype": "text/x-python",
   "name": "python",
   "nbconvert_exporter": "python",
   "pygments_lexer": "ipython3",
   "version": "3.7.7"
  }
 },
 "nbformat": 4,
 "nbformat_minor": 4
}
