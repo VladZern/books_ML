{
 "cells": [
  {
   "cell_type": "markdown",
   "metadata": {},
   "source": [
    "# Обратные вызовы для воздействия на модель в ходе обучения\n",
    "\n",
    "Обратный вызов — это объект (экземпляр класса, реализующего конкретные методы), который передается в модель через вызов fit и который будет вызываться моделью в разные моменты в процессе обучения. Он имеет доступ ко всей информации о состоянии модели и ее качестве и может предпринимать следующие действия: прерывать обучение, сохранять модели, загружать разные наборы весов или как-то иначе изменять состояние модели."
   ]
  },
  {
   "cell_type": "markdown",
   "metadata": {},
   "source": [
    "### Обратные вызовы ModelCheckpoint и EarlyStopping\n",
    "\n",
    "Обратный вызов EarlyStopping можно использовать для прерывания процесса обучения, если находящаяся под наблюдением целевая метрика не улучшалась на протяжении заданного количества эпох. Например, этот обратный вызов позволит прервать обучение после наступления эффекта переобучения и тем самым избежать повторного обучения модели в течение меньшего количества эпох. Этот обратный вызов обычно используется в комбинации с ModelCheckpoint, который позволяет сохранять состояние модели в ходе обучения (и, при необходимости, сохранять только лучшую модель: версию модели, достигшую лучшего качества к концу эпохи)"
   ]
  },
  {
   "cell_type": "code",
   "execution_count": null,
   "metadata": {},
   "outputs": [],
   "source": [
    "import keras\n",
    "\n",
    "callbacks_list = [\n",
    "    keras.callbacks.EarlyStopping( #прерывание когда качество модели перестает улучшаться\n",
    "        monitor='val_acc', #cлежение за оценкой на валидации\n",
    "        patience=1, #Прерывание обучения, когда точность не улучшается дольше чем в течение одной эпохи (другими словами, в течение двух эпох)\n",
    "    ), \n",
    "    keras.callbacks.ModelCheckpoint( #сохранение текущих весов после каждой эпохи\n",
    "        filepath='my_model.h5', #путь к файлу модели\n",
    "        monitor='val_loss', \n",
    "        save_best_only=True, #Эти аргументы требуют, чтобы файл модели не затирался, если значение val_loss не улучшилось, что позволяет сохранять только лучшую модель\n",
    "    )\n",
    "                    ]\n",
    "\n",
    "model.compile(optimizer='rmsprop', loss='binary_crossentropy', metrics=['acc']) \n",
    "model.fit(x, y, epochs=10, batch_size=32, callbacks=callbacks_list, validation_data=(x_val, y_val))"
   ]
  },
  {
   "cell_type": "markdown",
   "metadata": {},
   "source": [
    "## Обратный вызов ReduceLROnPlateau\n",
    "\n",
    "Этот обратный вызов можно использовать для снижения скорости обучения, когда потери на проверочных данных перестают уменьшаться. Уменьшение или увеличение скорости обучения в точке перегиба кривой потерь — эффективная стратегия выхода из локального минимума в ходе обучения."
   ]
  },
  {
   "cell_type": "code",
   "execution_count": null,
   "metadata": {},
   "outputs": [],
   "source": [
    "callbacks_list = [ \n",
    "    keras.callbacks.ReduceLROnPlateau( \n",
    "        monitor='val_loss' # Мониторинг потерь модели на проверочных данных \n",
    "        factor=0.1, # Уменьшение скорости обучения в 10 раз \n",
    "        patience=10, )] #Произведение вызова, когда потери на проверочных данных не улучшаются в течение 10 эпоx\n",
    "model.fit(x, y, epochs=10, batch_size=32, callbacks=callbacks_list, validation_data=(x_val, y_val))"
   ]
  }
 ],
 "metadata": {
  "kernelspec": {
   "display_name": "Python 3",
   "language": "python",
   "name": "python3"
  },
  "language_info": {
   "codemirror_mode": {
    "name": "ipython",
    "version": 3
   },
   "file_extension": ".py",
   "mimetype": "text/x-python",
   "name": "python",
   "nbconvert_exporter": "python",
   "pygments_lexer": "ipython3",
   "version": "3.7.7"
  }
 },
 "nbformat": 4,
 "nbformat_minor": 4
}
