{
 "cells": [
  {
   "cell_type": "code",
   "execution_count": 1,
   "metadata": {},
   "outputs": [],
   "source": [
    "import tensorflow as tf\n",
    "import numpy as np"
   ]
  },
  {
   "cell_type": "markdown",
   "metadata": {},
   "source": [
    "# Классификация отзывов к фильмам: пример бинарной классификации\n",
    "\n",
    "### 3.4.1. The IMDB dataset"
   ]
  },
  {
   "cell_type": "code",
   "execution_count": 2,
   "metadata": {},
   "outputs": [
    {
     "name": "stdout",
     "output_type": "stream",
     "text": [
      "Downloading data from https://storage.googleapis.com/tensorflow/tf-keras-datasets/imdb.npz\n",
      "17465344/17464789 [==============================] - 23s 1us/step\n"
     ]
    }
   ],
   "source": [
    "from tensorflow.keras.datasets import imdb\n",
    "(train_data, train_labels), (test_data, test_labels) = imdb.load_data(num_words=10000) #сохраняем только 10000 самых популярных слов"
   ]
  },
  {
   "cell_type": "markdown",
   "metadata": {},
   "source": [
    "Переменные train_data и test_data — это списки отзывов; каждый отзыв — это список индексов слов (кодированное представление последовательности слов). Переменные train_labels и test_labels — это списки нулей и единиц, где нули соответствуют отрицательным отзывам, а единицы — положительным"
   ]
  },
  {
   "cell_type": "code",
   "execution_count": 5,
   "metadata": {},
   "outputs": [
    {
     "name": "stdout",
     "output_type": "stream",
     "text": [
      "[1, 14, 22, 16, 43, 530, 973, 1622, 1385, 65]\n",
      "1\n",
      "9999\n"
     ]
    }
   ],
   "source": [
    "print(train_data[0][:10])\n",
    "print(train_labels[0])\n",
    "print(max([max(sequence) for sequence in train_data])) #наибольший индекс слова"
   ]
  },
  {
   "cell_type": "code",
   "execution_count": 6,
   "metadata": {},
   "outputs": [
    {
     "name": "stdout",
     "output_type": "stream",
     "text": [
      "Downloading data from https://storage.googleapis.com/tensorflow/tf-keras-datasets/imdb_word_index.json\n",
      "1646592/1641221 [==============================] - 3s 2us/step\n"
     ]
    },
    {
     "data": {
      "text/plain": [
       "\"? this film was just brilliant casting location scenery story direction everyone's really suited the part they played and you could just imagine being there robert ? is an amazing actor and now the same being director ? father came from the same scottish island as myself so i loved the fact there was a real connection with this film the witty remarks throughout the film were great it was just brilliant so much that i bought the film as soon as it was released for ? and would recommend it to everyone to watch and the fly fishing was amazing really cried at the end it was so sad and you know what they say if you cry at a film it must have been good and this definitely was also ? to the two little boy's that played the ? of norman and paul they were just brilliant children are often left out of the ? list i think because the stars that play them all grown up are such a big profile for the whole film but these children are amazing and should be praised for what they have done don't you think the whole story was so lovely because it was true and was someone's life after all that was shared with us all\""
      ]
     },
     "execution_count": 6,
     "metadata": {},
     "output_type": "execute_result"
    }
   ],
   "source": [
    "#пример декодирования отзыва в слова\n",
    "word_index = imdb.get_word_index() \n",
    "reverse_word_index = dict([(value, key) for (key, value) in word_index.items()]) \n",
    "decoded_review = ' '.join( [reverse_word_index.get(i - 3, '?') for i in train_data[0]])\n",
    "decoded_review"
   ]
  },
  {
   "cell_type": "markdown",
   "metadata": {},
   "source": [
    "### 3.4.2. Подготовка данных"
   ]
  },
  {
   "cell_type": "code",
   "execution_count": 7,
   "metadata": {},
   "outputs": [],
   "source": [
    "# Листинг 3.2. Кодирование последовательностей целых чисел в бинарную матрицу\n",
    "import numpy as np\n",
    "def vectorize_sequences(sequences, dimension=10000): \n",
    "    results = np.zeros((len(sequences), dimension)) \n",
    "    for i, sequence in enumerate(sequences): \n",
    "        results[i, sequence] = 1. #Запись единицы в элемент с данным индексом \n",
    "    return results\n",
    "x_train = vectorize_sequences(train_data) # Векторизованные обучающие данные\n",
    "x_test = vectorize_sequences(test_data)"
   ]
  },
  {
   "cell_type": "code",
   "execution_count": 11,
   "metadata": {},
   "outputs": [],
   "source": [
    "y_train = np.array(train_labels).astype('float32')\n",
    "y_test = np.array(test_labels).astype('float32')"
   ]
  },
  {
   "cell_type": "code",
   "execution_count": 12,
   "metadata": {},
   "outputs": [
    {
     "data": {
      "text/plain": [
       "array([1., 0., 0., ..., 0., 1., 0.], dtype=float32)"
      ]
     },
     "execution_count": 12,
     "metadata": {},
     "output_type": "execute_result"
    }
   ],
   "source": [
    "y_train"
   ]
  },
  {
   "cell_type": "markdown",
   "metadata": {},
   "source": [
    "### 3.4.3. Конструирование сети"
   ]
  },
  {
   "cell_type": "code",
   "execution_count": 13,
   "metadata": {},
   "outputs": [],
   "source": [
    "from tensorflow.keras import models\n",
    "from tensorflow.keras import layers\n",
    "model = models.Sequential()\n",
    "model.add(layers.Dense(16, activation='relu', input_shape=(10000,))) #16 нейронов слоя\n",
    "model.add(layers.Dense(16, activation='relu')) #16 нейронов слоя\n",
    "model.add(layers.Dense(1, activation='sigmoid')) #1 нейрон слоя, функция sigmoid (выдает вероятность класса)"
   ]
  },
  {
   "cell_type": "markdown",
   "metadata": {},
   "source": [
    "Функция relu (rectified linear unit — блок линейной ректификации) используется для преобразования отрицательных значений в ноль, а сигмоидная функция рассредоточивает произвольные значения по интервалу [0, 1], возвращая значения, которые можно интерпретировать как вероятность."
   ]
  },
  {
   "cell_type": "code",
   "execution_count": 14,
   "metadata": {},
   "outputs": [],
   "source": [
    "#настраиваем оптимизатор, функцию потерь и метрику\n",
    "model.compile(optimizer='rmsprop', loss='binary_crossentropy', metrics=['accuracy'])"
   ]
  },
  {
   "cell_type": "markdown",
   "metadata": {},
   "source": [
    "### Листинг 3.5. Настройка оптимизатора\n",
    "\n",
    "from tensorflow.keras import optimizers\n",
    "\n",
    "model.compile(optimizer=optimizers.RMSprop(lr=0.001), loss='binary_crossentropy', metrics=['accuracy'])\n",
    "\n",
    "### Листинг 3.6. Использование нестандартных функций потерь и метрик\n",
    "\n",
    "from tensorflow.keras import losses\n",
    "\n",
    "from tensorflow.keras import metrics\n",
    "\n",
    "model.compile(optimizer=optimizers.RMSprop(lr=0.001), loss=losses.binary_crossentropy, metrics=[metrics.binary_accuracy])"
   ]
  },
  {
   "cell_type": "markdown",
   "metadata": {},
   "source": [
    "### 3.4.4. Cоздание тестового набора данных"
   ]
  },
  {
   "cell_type": "code",
   "execution_count": 15,
   "metadata": {},
   "outputs": [],
   "source": [
    "x_val = x_train[:10000]\n",
    "partial_x_train = x_train[10000:]\n",
    "y_val = y_train[:10000]\n",
    "partial_y_train = y_train[10000:]"
   ]
  },
  {
   "cell_type": "markdown",
   "metadata": {},
   "source": [
    "Теперь проведем обучение модели в течение 20 эпох (выполнив 20 итераций по всем образцам в тензорах x_train и y_train) пакетами по 512 образцов. В то же время будем следить за потерями и точностью на 10 000 отложенных образцов. Для этого достаточно передать проверочные данные в аргументе validation_data."
   ]
  },
  {
   "cell_type": "code",
   "execution_count": 16,
   "metadata": {},
   "outputs": [
    {
     "name": "stdout",
     "output_type": "stream",
     "text": [
      "Train on 15000 samples, validate on 10000 samples\n",
      "Epoch 1/20\n",
      "15000/15000 [==============================] - 172s 11ms/sample - loss: 0.5136 - accuracy: 0.8057 - val_loss: 0.3976 - val_accuracy: 0.8649\n",
      "Epoch 2/20\n",
      "15000/15000 [==============================] - 10s 648us/sample - loss: 0.3147 - accuracy: 0.9003 - val_loss: 0.3175 - val_accuracy: 0.8762\n",
      "Epoch 3/20\n",
      "15000/15000 [==============================] - 2s 166us/sample - loss: 0.2321 - accuracy: 0.9246 - val_loss: 0.3035 - val_accuracy: 0.8757\n",
      "Epoch 4/20\n",
      "15000/15000 [==============================] - 3s 179us/sample - loss: 0.1829 - accuracy: 0.9402 - val_loss: 0.2862 - val_accuracy: 0.8847\n",
      "Epoch 5/20\n",
      "15000/15000 [==============================] - 2s 160us/sample - loss: 0.1506 - accuracy: 0.9523 - val_loss: 0.2767 - val_accuracy: 0.8871\n",
      "Epoch 6/20\n",
      "15000/15000 [==============================] - 2s 164us/sample - loss: 0.1251 - accuracy: 0.9600 - val_loss: 0.2911 - val_accuracy: 0.8843\n",
      "Epoch 7/20\n",
      "15000/15000 [==============================] - 2s 163us/sample - loss: 0.1019 - accuracy: 0.9711 - val_loss: 0.3036 - val_accuracy: 0.8841\n",
      "Epoch 8/20\n",
      "15000/15000 [==============================] - 2s 160us/sample - loss: 0.0834 - accuracy: 0.9766 - val_loss: 0.3236 - val_accuracy: 0.8826\n",
      "Epoch 9/20\n",
      "15000/15000 [==============================] - 2s 161us/sample - loss: 0.0684 - accuracy: 0.9813 - val_loss: 0.3461 - val_accuracy: 0.8776\n",
      "Epoch 10/20\n",
      "15000/15000 [==============================] - 3s 177us/sample - loss: 0.0535 - accuracy: 0.9878 - val_loss: 0.3881 - val_accuracy: 0.8721\n",
      "Epoch 11/20\n",
      "15000/15000 [==============================] - 2s 165us/sample - loss: 0.0446 - accuracy: 0.9903 - val_loss: 0.3923 - val_accuracy: 0.8763\n",
      "Epoch 12/20\n",
      "15000/15000 [==============================] - 2s 161us/sample - loss: 0.0342 - accuracy: 0.9931 - val_loss: 0.4211 - val_accuracy: 0.8763\n",
      "Epoch 13/20\n",
      "15000/15000 [==============================] - 3s 186us/sample - loss: 0.0255 - accuracy: 0.9963 - val_loss: 0.4575 - val_accuracy: 0.8744\n",
      "Epoch 14/20\n",
      "15000/15000 [==============================] - 3s 170us/sample - loss: 0.0208 - accuracy: 0.9967 - val_loss: 0.4933 - val_accuracy: 0.8717\n",
      "Epoch 15/20\n",
      "15000/15000 [==============================] - 2s 161us/sample - loss: 0.0156 - accuracy: 0.9981 - val_loss: 0.5207 - val_accuracy: 0.8720\n",
      "Epoch 16/20\n",
      "15000/15000 [==============================] - 3s 191us/sample - loss: 0.0113 - accuracy: 0.9991 - val_loss: 0.5826 - val_accuracy: 0.8669\n",
      "Epoch 17/20\n",
      "15000/15000 [==============================] - 2s 163us/sample - loss: 0.0131 - accuracy: 0.9971 - val_loss: 0.5910 - val_accuracy: 0.8696\n",
      "Epoch 18/20\n",
      "15000/15000 [==============================] - 2s 165us/sample - loss: 0.0049 - accuracy: 0.9999 - val_loss: 0.6132 - val_accuracy: 0.8676\n",
      "Epoch 19/20\n",
      "15000/15000 [==============================] - 2s 162us/sample - loss: 0.0076 - accuracy: 0.9985 - val_loss: 0.6513 - val_accuracy: 0.8697\n",
      "Epoch 20/20\n",
      "15000/15000 [==============================] - 2s 150us/sample - loss: 0.0028 - accuracy: 0.9999 - val_loss: 0.6794 - val_accuracy: 0.8674\n"
     ]
    }
   ],
   "source": [
    "history = model.fit(partial_x_train, partial_y_train, epochs=20, batch_size=512, validation_data=(x_val, y_val))"
   ]
  },
  {
   "cell_type": "markdown",
   "metadata": {},
   "source": [
    "Обратите внимание на то, что вызов model.fit() возвращает объект History. Этот объект имеет поле history — словарь с данными обо всем происходившем в процессе обучения."
   ]
  },
  {
   "cell_type": "code",
   "execution_count": 17,
   "metadata": {},
   "outputs": [
    {
     "data": {
      "text/plain": [
       "dict_keys(['loss', 'accuracy', 'val_loss', 'val_accuracy'])"
      ]
     },
     "execution_count": 17,
     "metadata": {},
     "output_type": "execute_result"
    }
   ],
   "source": [
    "history_dict = history.history\n",
    "history_dict.keys()"
   ]
  },
  {
   "cell_type": "code",
   "execution_count": 21,
   "metadata": {},
   "outputs": [
    {
     "data": {
      "image/png": "[encoded data removed]",
      "text/plain": [
       "<Figure size 432x288 with 1 Axes>"
      ]
     },
     "metadata": {
      "needs_background": "light"
     },
     "output_type": "display_data"
    }
   ],
   "source": [
    "import matplotlib.pyplot as plt\n",
    "loss_values = history_dict['loss']\n",
    "val_loss_values = history_dict['val_loss']\n",
    "epochs = range(1, len(loss_values) + 1)\n",
    "plt.plot(epochs, loss_values, 'bo', label='Training loss') \n",
    "plt.plot(epochs, val_loss_values, 'b', label='Validation loss') \n",
    "plt.title('Training and validation loss')\n",
    "plt.xlabel('Epochs')\n",
    "plt.ylabel('Loss')\n",
    "plt.legend()\n",
    "plt.show()"
   ]
  },
  {
   "cell_type": "code",
   "execution_count": 23,
   "metadata": {},
   "outputs": [
    {
     "data": {
      "image/png": "[encoded data removed]",
      "text/plain": [
       "<Figure size 432x288 with 1 Axes>"
      ]
     },
     "metadata": {
      "needs_background": "light"
     },
     "output_type": "display_data"
    }
   ],
   "source": [
    "acc_values = history_dict['accuracy']\n",
    "val_acc_values = history_dict['val_accuracy']\n",
    "plt.plot(epochs, acc_values, 'bo', label='Training acc')\n",
    "plt.plot(epochs, val_acc_values, 'b', label='Validation acc')\n",
    "plt.title('Training and validation accuracy')\n",
    "plt.xlabel('Epochs')\n",
    "plt.ylabel('Accuracy')\n",
    "plt.legend()\n",
    "plt.show()"
   ]
  },
  {
   "cell_type": "markdown",
   "metadata": {},
   "source": [
    "Видим, что в данном случае наблюдается переобучение: после пятой эпохи произошла чрезмерная оптимизация на обучающих данных, и в результате получилось представление, характерное для обучающих данных, не обобщающее данные за пределами обучающего набора.\n",
    "В данном случае для предотвращения переобучения можно прекратить обучение после пятой эпохи."
   ]
  },
  {
   "cell_type": "markdown",
   "metadata": {},
   "source": [
    "Обучим новую модель, предотвратив переобучение и применив результат к тестовым данным"
   ]
  },
  {
   "cell_type": "code",
   "execution_count": 24,
   "metadata": {},
   "outputs": [
    {
     "name": "stdout",
     "output_type": "stream",
     "text": [
      "Train on 25000 samples\n",
      "Epoch 1/4\n",
      "25000/25000 [==============================] - 53s 2ms/sample - loss: 0.5297 - accuracy: 0.7639\n",
      "Epoch 2/4\n",
      "25000/25000 [==============================] - 3s 100us/sample - loss: 0.3125 - accuracy: 0.9042\n",
      "Epoch 3/4\n",
      "25000/25000 [==============================] - 3s 102us/sample - loss: 0.2274 - accuracy: 0.9252\n",
      "Epoch 4/4\n",
      "25000/25000 [==============================] - 2s 96us/sample - loss: 0.1861 - accuracy: 0.9375\n",
      "25000/25000 [==============================] - 234s 9ms/sample - loss: 0.2925 - accuracy: 0.8842\n"
     ]
    }
   ],
   "source": [
    "model = models.Sequential()\n",
    "model.add(layers.Dense(16, activation='relu', input_shape=(10000,)))\n",
    "model.add(layers.Dense(16, activation='relu'))\n",
    "model.add(layers.Dense(1, activation='sigmoid'))\n",
    "model.compile(optimizer='rmsprop',\n",
    "loss='binary_crossentropy',\n",
    "metrics=['accuracy'])\n",
    "model.fit(x_train, y_train, epochs=4, batch_size=512)\n",
    "results = model.evaluate(x_test, y_test)"
   ]
  },
  {
   "cell_type": "code",
   "execution_count": 25,
   "metadata": {},
   "outputs": [
    {
     "data": {
      "text/plain": [
       "[0.2925445203304291, 0.8842]"
      ]
     },
     "execution_count": 25,
     "metadata": {},
     "output_type": "execute_result"
    }
   ],
   "source": [
    "results #точность на тестовом наборе данных составила 88%"
   ]
  },
  {
   "cell_type": "code",
   "execution_count": null,
   "metadata": {},
   "outputs": [],
   "source": [
    "model.predict(x_test) # Предсказания модели"
   ]
  },
  {
   "cell_type": "markdown",
   "metadata": {},
   "source": [
    "### Выводы из этого примера:\n",
    "\n",
    "1) Обычно исходные данные приходится подвергать некоторой предварительной обработке, чтобы передать их в нейронную сеть в виде тензоров. Последовательности слов можно преобразовать в бинарные векторы, но существуют также другие варианты.\n",
    "\n",
    "2) Стек слоев Dense с функцией активации relu способен решать широкий круг задач (включая классификацию эмоциональной окраски), и вы, вероятно, чаще всего будете использовать именно эту комбинацию.\n",
    "\n",
    "3) В задаче бинарной классификации (с двумя выходными классами) в конце вашей нейросети должен находиться слой Dense с одним нейроном и функцией активации sigmoid: результатом работы сети должно быть скалярное значение в диапазоне между 0 и 1, представляющее собой вероятность.\n",
    "\n",
    "4) С таким скалярным результатом, получаемым с помощью сигмоидной функции, в задачах бинарной классификации следует использовать функцию потерь binary_crossentropy.\n",
    "\n",
    "5) В общем случае оптимизатор rmsprop является наиболее подходящим выбором для любого типа задач. Одной головной болью меньше для вас.\n",
    "\n",
    "6) По мере улучшения на обучающих данных нейронные сети рано или поздно начинают переобучаться, демонстрируя ухудшение результатов на данных, которые они прежде не видели. Поэтому всегда контролируйте качество работы сети на данных не из обучающего набора."
   ]
  }
 ],
 "metadata": {
  "kernelspec": {
   "display_name": "Python 3",
   "language": "python",
   "name": "python3"
  },
  "language_info": {
   "codemirror_mode": {
    "name": "ipython",
    "version": 3
   },
   "file_extension": ".py",
   "mimetype": "text/x-python",
   "name": "python",
   "nbconvert_exporter": "python",
   "pygments_lexer": "ipython3",
   "version": "3.7.7"
  }
 },
 "nbformat": 4,
 "nbformat_minor": 4
}
